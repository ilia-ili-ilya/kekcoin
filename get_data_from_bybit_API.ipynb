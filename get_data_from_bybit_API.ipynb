{
  "nbformat": 4,
  "nbformat_minor": 0,
  "metadata": {
    "colab": {
      "provenance": [],
      "authorship_tag": "ABX9TyNZebyqWAioys82shNJcwyC",
      "include_colab_link": true
    },
    "kernelspec": {
      "name": "python3",
      "display_name": "Python 3"
    },
    "language_info": {
      "name": "python"
    }
  },
  "cells": [
    {
      "cell_type": "markdown",
      "metadata": {
        "id": "view-in-github",
        "colab_type": "text"
      },
      "source": [
        "<a href=\"https://colab.research.google.com/github/ilia-ili-ilya/kekcoin/blob/main/get_data_from_bybit_API.ipynb\" target=\"_parent\"><img src=\"https://colab.research.google.com/assets/colab-badge.svg\" alt=\"Open In Colab\"/></a>"
      ]
    },
    {
      "cell_type": "code",
      "source": [
        "!pip install pybit\n",
        "!apt-get -qq install -y pybit"
      ],
      "metadata": {
        "colab": {
          "base_uri": "https://localhost:8080/"
        },
        "id": "JUrprZgKuXNP",
        "outputId": "e96c5697-4bcb-4114-846c-f2b5406665cc"
      },
      "execution_count": null,
      "outputs": [
        {
          "output_type": "stream",
          "name": "stdout",
          "text": [
            "Collecting pybit\n",
            "  Downloading pybit-5.8.0.tar.gz (57 kB)\n",
            "\u001b[?25l     \u001b[90m━━━━━━━━━━━━━━━━━━━━━━━━━━━━━━━━━━━━━━━━\u001b[0m \u001b[32m0.0/57.2 kB\u001b[0m \u001b[31m?\u001b[0m eta \u001b[36m-:--:--\u001b[0m\r\u001b[2K     \u001b[91m━━━━━━━━━━━━━━━━━━━━━━━━━━━━━━━━━━━\u001b[0m\u001b[91m╸\u001b[0m\u001b[90m━━━━\u001b[0m \u001b[32m51.2/57.2 kB\u001b[0m \u001b[31m1.9 MB/s\u001b[0m eta \u001b[36m0:00:01\u001b[0m\r\u001b[2K     \u001b[90m━━━━━━━━━━━━━━━━━━━━━━━━━━━━━━━━━━━━━━━━\u001b[0m \u001b[32m57.2/57.2 kB\u001b[0m \u001b[31m1.3 MB/s\u001b[0m eta \u001b[36m0:00:00\u001b[0m\n",
            "\u001b[?25h  Preparing metadata (setup.py) ... \u001b[?25l\u001b[?25hdone\n",
            "Requirement already satisfied: requests in /usr/local/lib/python3.10/dist-packages (from pybit) (2.31.0)\n",
            "Requirement already satisfied: websocket-client in /usr/local/lib/python3.10/dist-packages (from pybit) (1.8.0)\n",
            "Collecting pycryptodome (from pybit)\n",
            "  Downloading pycryptodome-3.20.0-cp35-abi3-manylinux_2_17_x86_64.manylinux2014_x86_64.whl (2.1 MB)\n",
            "\u001b[2K     \u001b[90m━━━━━━━━━━━━━━━━━━━━━━━━━━━━━━━━━━━━━━━━\u001b[0m \u001b[32m2.1/2.1 MB\u001b[0m \u001b[31m14.8 MB/s\u001b[0m eta \u001b[36m0:00:00\u001b[0m\n",
            "\u001b[?25hRequirement already satisfied: charset-normalizer<4,>=2 in /usr/local/lib/python3.10/dist-packages (from requests->pybit) (3.3.2)\n",
            "Requirement already satisfied: idna<4,>=2.5 in /usr/local/lib/python3.10/dist-packages (from requests->pybit) (3.7)\n",
            "Requirement already satisfied: urllib3<3,>=1.21.1 in /usr/local/lib/python3.10/dist-packages (from requests->pybit) (2.0.7)\n",
            "Requirement already satisfied: certifi>=2017.4.17 in /usr/local/lib/python3.10/dist-packages (from requests->pybit) (2024.6.2)\n",
            "Building wheels for collected packages: pybit\n",
            "  Building wheel for pybit (setup.py) ... \u001b[?25l\u001b[?25hdone\n",
            "  Created wheel for pybit: filename=pybit-5.8.0-py2.py3-none-any.whl size=56060 sha256=7bc96c02ca12096082e4683e667bc9b9f2fbfd77650ef63cf7ed0e6073cf0628\n",
            "  Stored in directory: /root/.cache/pip/wheels/79/53/e3/419e1a04dcca191df09a58c869b56d56aa876c4fca4ee642a5\n",
            "Successfully built pybit\n",
            "Installing collected packages: pycryptodome, pybit\n",
            "Successfully installed pybit-5.8.0 pycryptodome-3.20.0\n",
            "E: Unable to locate package pybit\n"
          ]
        }
      ]
    },
    {
      "cell_type": "code",
      "source": [
        "from pybit.unified_trading import HTTP\n",
        "session = HTTP(testnet=True)\n",
        "print(session.get_server_time())"
      ],
      "metadata": {
        "colab": {
          "base_uri": "https://localhost:8080/"
        },
        "id": "S5pkW5Diuok6",
        "outputId": "f49d44dd-a18f-42bc-b89c-5ee470f11b20"
      },
      "execution_count": null,
      "outputs": [
        {
          "output_type": "stream",
          "name": "stdout",
          "text": [
            "{'retCode': 0, 'retMsg': 'OK', 'result': {'timeSecond': '1720515740', 'timeNano': '1720515740720691015'}, 'retExtInfo': {}, 'time': 1720515740720}\n"
          ]
        }
      ]
    }
  ]
}